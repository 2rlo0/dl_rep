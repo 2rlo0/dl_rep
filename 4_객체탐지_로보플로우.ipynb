{
 "cells": [
  {
   "cell_type": "markdown",
   "id": "b7411630",
   "metadata": {},
   "source": [
    "# 가상환경 torch_cuda_yolo_env"
   ]
  },
  {
   "cell_type": "code",
   "execution_count": 3,
   "id": "3e8dc2c5",
   "metadata": {},
   "outputs": [
    {
     "name": "stdout",
     "output_type": "stream",
     "text": [
      "torch <module 'torch.version' from 'c:\\\\Users\\\\Admin\\\\miniconda3\\\\envs\\\\torch_cuda_yolo_env\\\\lib\\\\site-packages\\\\torch\\\\version.py'> cuda 12.4 is_available True\n"
     ]
    }
   ],
   "source": [
    "import torch\n",
    "print(\"torch\", torch.version,\n",
    "      \"cuda\", torch.version.cuda,\n",
    "      \"is_available\",\n",
    "      torch.cuda.is_available())"
   ]
  },
  {
   "cell_type": "code",
   "execution_count": 4,
   "id": "87f46d83",
   "metadata": {},
   "outputs": [
    {
     "data": {
      "text/plain": [
       "'HTtfgOHcVf3WJW84rFjs'"
      ]
     },
     "execution_count": 4,
     "metadata": {},
     "output_type": "execute_result"
    }
   ],
   "source": [
    "import os\n",
    "from dotenv import load_dotenv\n",
    "loaded = load_dotenv()\n",
    "os.getenv('ROBOFLOW_API_KEY')"
   ]
  },
  {
   "cell_type": "code",
   "execution_count": null,
   "id": "29d481ba",
   "metadata": {},
   "outputs": [
    {
     "name": "stdout",
     "output_type": "stream",
     "text": [
      "Requirement already satisfied: ultralytics in c:\\users\\admin\\miniconda3\\envs\\torch_cuda_yolo_env\\lib\\site-packages (8.3.191)\n",
      "Requirement already satisfied: roboflow in c:\\users\\admin\\miniconda3\\envs\\torch_cuda_yolo_env\\lib\\site-packages (1.2.7)\n",
      "Requirement already satisfied: opencv-python in c:\\users\\admin\\miniconda3\\envs\\torch_cuda_yolo_env\\lib\\site-packages (4.10.0.84)\n",
      "Requirement already satisfied: pillow in c:\\users\\admin\\miniconda3\\envs\\torch_cuda_yolo_env\\lib\\site-packages (11.3.0)\n",
      "Requirement already satisfied: matplotlib in c:\\users\\admin\\miniconda3\\envs\\torch_cuda_yolo_env\\lib\\site-packages (3.10.6)\n",
      "Requirement already satisfied: inference-sdk in c:\\users\\admin\\miniconda3\\envs\\torch_cuda_yolo_env\\lib\\site-packages (0.54.1)\n",
      "Requirement already satisfied: numpy>=1.23.0 in c:\\users\\admin\\miniconda3\\envs\\torch_cuda_yolo_env\\lib\\site-packages (from ultralytics) (2.1.2)\n",
      "Requirement already satisfied: pyyaml>=5.3.1 in c:\\users\\admin\\miniconda3\\envs\\torch_cuda_yolo_env\\lib\\site-packages (from ultralytics) (6.0.2)\n",
      "Requirement already satisfied: requests>=2.23.0 in c:\\users\\admin\\miniconda3\\envs\\torch_cuda_yolo_env\\lib\\site-packages (from ultralytics) (2.32.5)\n",
      "Requirement already satisfied: scipy>=1.4.1 in c:\\users\\admin\\miniconda3\\envs\\torch_cuda_yolo_env\\lib\\site-packages (from ultralytics) (1.15.3)\n",
      "Requirement already satisfied: torch>=1.8.0 in c:\\users\\admin\\miniconda3\\envs\\torch_cuda_yolo_env\\lib\\site-packages (from ultralytics) (2.6.0+cu124)\n",
      "Requirement already satisfied: torchvision>=0.9.0 in c:\\users\\admin\\miniconda3\\envs\\torch_cuda_yolo_env\\lib\\site-packages (from ultralytics) (0.21.0+cu124)\n",
      "Requirement already satisfied: psutil in c:\\users\\admin\\miniconda3\\envs\\torch_cuda_yolo_env\\lib\\site-packages (from ultralytics) (7.0.0)\n",
      "Requirement already satisfied: py-cpuinfo in c:\\users\\admin\\miniconda3\\envs\\torch_cuda_yolo_env\\lib\\site-packages (from ultralytics) (9.0.0)\n",
      "Requirement already satisfied: polars in c:\\users\\admin\\miniconda3\\envs\\torch_cuda_yolo_env\\lib\\site-packages (from ultralytics) (1.33.0)\n",
      "Requirement already satisfied: ultralytics-thop>=2.0.0 in c:\\users\\admin\\miniconda3\\envs\\torch_cuda_yolo_env\\lib\\site-packages (from ultralytics) (2.0.16)\n",
      "Requirement already satisfied: certifi in c:\\users\\admin\\miniconda3\\envs\\torch_cuda_yolo_env\\lib\\site-packages (from roboflow) (2025.8.3)\n",
      "Requirement already satisfied: idna==3.7 in c:\\users\\admin\\miniconda3\\envs\\torch_cuda_yolo_env\\lib\\site-packages (from roboflow) (3.7)\n",
      "Requirement already satisfied: cycler in c:\\users\\admin\\miniconda3\\envs\\torch_cuda_yolo_env\\lib\\site-packages (from roboflow) (0.12.1)\n",
      "Requirement already satisfied: kiwisolver>=1.3.1 in c:\\users\\admin\\miniconda3\\envs\\torch_cuda_yolo_env\\lib\\site-packages (from roboflow) (1.4.9)\n",
      "Requirement already satisfied: opencv-python-headless==4.10.0.84 in c:\\users\\admin\\miniconda3\\envs\\torch_cuda_yolo_env\\lib\\site-packages (from roboflow) (4.10.0.84)\n",
      "Requirement already satisfied: pi-heif<2 in c:\\users\\admin\\miniconda3\\envs\\torch_cuda_yolo_env\\lib\\site-packages (from roboflow) (1.1.0)\n",
      "Requirement already satisfied: pillow-avif-plugin<2 in c:\\users\\admin\\miniconda3\\envs\\torch_cuda_yolo_env\\lib\\site-packages (from roboflow) (1.5.2)\n",
      "Requirement already satisfied: python-dateutil in c:\\users\\admin\\miniconda3\\envs\\torch_cuda_yolo_env\\lib\\site-packages (from roboflow) (2.9.0.post0)\n",
      "Requirement already satisfied: python-dotenv in c:\\users\\admin\\miniconda3\\envs\\torch_cuda_yolo_env\\lib\\site-packages (from roboflow) (1.1.1)\n",
      "Requirement already satisfied: six in c:\\users\\admin\\miniconda3\\envs\\torch_cuda_yolo_env\\lib\\site-packages (from roboflow) (1.17.0)\n",
      "Requirement already satisfied: urllib3>=1.26.6 in c:\\users\\admin\\miniconda3\\envs\\torch_cuda_yolo_env\\lib\\site-packages (from roboflow) (2.5.0)\n",
      "Requirement already satisfied: tqdm>=4.41.0 in c:\\users\\admin\\miniconda3\\envs\\torch_cuda_yolo_env\\lib\\site-packages (from roboflow) (4.67.1)\n",
      "Requirement already satisfied: requests-toolbelt in c:\\users\\admin\\miniconda3\\envs\\torch_cuda_yolo_env\\lib\\site-packages (from roboflow) (1.0.0)\n",
      "Requirement already satisfied: filetype in c:\\users\\admin\\miniconda3\\envs\\torch_cuda_yolo_env\\lib\\site-packages (from roboflow) (1.2.0)\n",
      "Requirement already satisfied: contourpy>=1.0.1 in c:\\users\\admin\\miniconda3\\envs\\torch_cuda_yolo_env\\lib\\site-packages (from matplotlib) (1.3.2)\n",
      "Requirement already satisfied: fonttools>=4.22.0 in c:\\users\\admin\\miniconda3\\envs\\torch_cuda_yolo_env\\lib\\site-packages (from matplotlib) (4.59.2)\n",
      "Requirement already satisfied: packaging>=20.0 in c:\\users\\admin\\miniconda3\\envs\\torch_cuda_yolo_env\\lib\\site-packages (from matplotlib) (25.0)\n",
      "Requirement already satisfied: pyparsing>=2.3.1 in c:\\users\\admin\\miniconda3\\envs\\torch_cuda_yolo_env\\lib\\site-packages (from matplotlib) (3.2.3)\n",
      "Requirement already satisfied: dataclasses-json~=0.6.0 in c:\\users\\admin\\miniconda3\\envs\\torch_cuda_yolo_env\\lib\\site-packages (from inference-sdk) (0.6.7)\n",
      "Requirement already satisfied: supervision<0.26.0,>=0.25.1 in c:\\users\\admin\\miniconda3\\envs\\torch_cuda_yolo_env\\lib\\site-packages (from inference-sdk) (0.25.1)\n",
      "Requirement already satisfied: aiohttp<=3.10.11,>=3.9.0 in c:\\users\\admin\\miniconda3\\envs\\torch_cuda_yolo_env\\lib\\site-packages (from inference-sdk) (3.10.11)\n",
      "Requirement already satisfied: backoff~=2.2.0 in c:\\users\\admin\\miniconda3\\envs\\torch_cuda_yolo_env\\lib\\site-packages (from inference-sdk) (2.2.1)\n",
      "Requirement already satisfied: aiohappyeyeballs>=2.3.0 in c:\\users\\admin\\miniconda3\\envs\\torch_cuda_yolo_env\\lib\\site-packages (from aiohttp<=3.10.11,>=3.9.0->inference-sdk) (2.6.1)\n",
      "Requirement already satisfied: aiosignal>=1.1.2 in c:\\users\\admin\\miniconda3\\envs\\torch_cuda_yolo_env\\lib\\site-packages (from aiohttp<=3.10.11,>=3.9.0->inference-sdk) (1.4.0)\n",
      "Requirement already satisfied: attrs>=17.3.0 in c:\\users\\admin\\miniconda3\\envs\\torch_cuda_yolo_env\\lib\\site-packages (from aiohttp<=3.10.11,>=3.9.0->inference-sdk) (25.3.0)\n",
      "Requirement already satisfied: frozenlist>=1.1.1 in c:\\users\\admin\\miniconda3\\envs\\torch_cuda_yolo_env\\lib\\site-packages (from aiohttp<=3.10.11,>=3.9.0->inference-sdk) (1.7.0)\n",
      "Requirement already satisfied: multidict<7.0,>=4.5 in c:\\users\\admin\\miniconda3\\envs\\torch_cuda_yolo_env\\lib\\site-packages (from aiohttp<=3.10.11,>=3.9.0->inference-sdk) (6.6.4)\n",
      "Requirement already satisfied: yarl<2.0,>=1.12.0 in c:\\users\\admin\\miniconda3\\envs\\torch_cuda_yolo_env\\lib\\site-packages (from aiohttp<=3.10.11,>=3.9.0->inference-sdk) (1.20.1)\n",
      "Requirement already satisfied: async-timeout<6.0,>=4.0 in c:\\users\\admin\\miniconda3\\envs\\torch_cuda_yolo_env\\lib\\site-packages (from aiohttp<=3.10.11,>=3.9.0->inference-sdk) (5.0.1)\n",
      "Requirement already satisfied: marshmallow<4.0.0,>=3.18.0 in c:\\users\\admin\\miniconda3\\envs\\torch_cuda_yolo_env\\lib\\site-packages (from dataclasses-json~=0.6.0->inference-sdk) (3.26.1)\n",
      "Requirement already satisfied: typing-inspect<1,>=0.4.0 in c:\\users\\admin\\miniconda3\\envs\\torch_cuda_yolo_env\\lib\\site-packages (from dataclasses-json~=0.6.0->inference-sdk) (0.9.0)\n",
      "Requirement already satisfied: typing-extensions>=4.1.0 in c:\\users\\admin\\miniconda3\\envs\\torch_cuda_yolo_env\\lib\\site-packages (from multidict<7.0,>=4.5->aiohttp<=3.10.11,>=3.9.0->inference-sdk) (4.12.2)\n",
      "Requirement already satisfied: charset_normalizer<4,>=2 in c:\\users\\admin\\miniconda3\\envs\\torch_cuda_yolo_env\\lib\\site-packages (from requests>=2.23.0->ultralytics) (3.4.3)\n",
      "Requirement already satisfied: defusedxml<0.8.0,>=0.7.1 in c:\\users\\admin\\miniconda3\\envs\\torch_cuda_yolo_env\\lib\\site-packages (from supervision<0.26.0,>=0.25.1->inference-sdk) (0.7.1)\n",
      "Requirement already satisfied: mypy-extensions>=0.3.0 in c:\\users\\admin\\miniconda3\\envs\\torch_cuda_yolo_env\\lib\\site-packages (from typing-inspect<1,>=0.4.0->dataclasses-json~=0.6.0->inference-sdk) (1.1.0)\n",
      "Requirement already satisfied: propcache>=0.2.1 in c:\\users\\admin\\miniconda3\\envs\\torch_cuda_yolo_env\\lib\\site-packages (from yarl<2.0,>=1.12.0->aiohttp<=3.10.11,>=3.9.0->inference-sdk) (0.3.2)\n",
      "Requirement already satisfied: filelock in c:\\users\\admin\\miniconda3\\envs\\torch_cuda_yolo_env\\lib\\site-packages (from torch>=1.8.0->ultralytics) (3.13.1)\n",
      "Requirement already satisfied: networkx in c:\\users\\admin\\miniconda3\\envs\\torch_cuda_yolo_env\\lib\\site-packages (from torch>=1.8.0->ultralytics) (3.3)\n",
      "Requirement already satisfied: jinja2 in c:\\users\\admin\\miniconda3\\envs\\torch_cuda_yolo_env\\lib\\site-packages (from torch>=1.8.0->ultralytics) (3.1.4)\n",
      "Requirement already satisfied: fsspec in c:\\users\\admin\\miniconda3\\envs\\torch_cuda_yolo_env\\lib\\site-packages (from torch>=1.8.0->ultralytics) (2024.6.1)\n",
      "Requirement already satisfied: sympy==1.13.1 in c:\\users\\admin\\miniconda3\\envs\\torch_cuda_yolo_env\\lib\\site-packages (from torch>=1.8.0->ultralytics) (1.13.1)\n",
      "Requirement already satisfied: mpmath<1.4,>=1.1.0 in c:\\users\\admin\\miniconda3\\envs\\torch_cuda_yolo_env\\lib\\site-packages (from sympy==1.13.1->torch>=1.8.0->ultralytics) (1.3.0)\n",
      "Requirement already satisfied: colorama in c:\\users\\admin\\miniconda3\\envs\\torch_cuda_yolo_env\\lib\\site-packages (from tqdm>=4.41.0->roboflow) (0.4.6)\n",
      "Requirement already satisfied: MarkupSafe>=2.0 in c:\\users\\admin\\miniconda3\\envs\\torch_cuda_yolo_env\\lib\\site-packages (from jinja2->torch>=1.8.0->ultralytics) (2.1.5)\n",
      "Note: you may need to restart the kernel to use updated packages.\n"
     ]
    }
   ],
   "source": [
    "#pip install ultralytics roboflow opencv-python pillow matplotlib inference-sdk"
   ]
  },
  {
   "cell_type": "code",
   "execution_count": 5,
   "id": "901a03e7",
   "metadata": {},
   "outputs": [
    {
     "data": {
      "text/plain": [
       "<inference_sdk.http.client.InferenceHTTPClient at 0x21a75c5aa70>"
      ]
     },
     "execution_count": 5,
     "metadata": {},
     "output_type": "execute_result"
    }
   ],
   "source": [
    "from inference_sdk import InferenceHTTPClient\n",
    "CLIENT = InferenceHTTPClient(\n",
    "  api_url= 'https://detect.roboflow.com',\n",
    "  api_key= os.getenv('ROBOFLOW_API_KEY')\n",
    ")\n",
    "CLIENT"
   ]
  },
  {
   "cell_type": "code",
   "execution_count": null,
   "id": "a628f27c",
   "metadata": {},
   "outputs": [
    {
     "data": {
      "text/plain": [
       "{'inference_id': 'e2bc57a7-840e-4a61-a44f-4571849fccf7',\n",
       " 'time': 0.1328760900000816,\n",
       " 'image': {'width': 2300, 'height': 1293},\n",
       " 'predictions': [{'x': 1815.0,\n",
       "   'y': 874.0,\n",
       "   'width': 582.0,\n",
       "   'height': 698.0,\n",
       "   'confidence': 0.9130182266235352,\n",
       "   'class': 'Rock',\n",
       "   'class_id': 1,\n",
       "   'detection_id': '4355ec47-3cf9-407c-9ff4-494ee64dd0f8'},\n",
       "  {'x': 498.5,\n",
       "   'y': 806.0,\n",
       "   'width': 801.0,\n",
       "   'height': 956.0,\n",
       "   'confidence': 0.5753790140151978,\n",
       "   'class': 'Paper',\n",
       "   'class_id': 0,\n",
       "   'detection_id': '6b7d755a-ddb1-4523-a07d-004d449d7aad'}]}"
      ]
     },
     "execution_count": 6,
     "metadata": {},
     "output_type": "execute_result"
    }
   ],
   "source": [
    "result = CLIENT.infer('sample.png', model_id='rock-paper-scissors-sxsw/14')\n",
    "result"
   ]
  },
  {
   "cell_type": "code",
   "execution_count": 7,
   "id": "f64362a2",
   "metadata": {},
   "outputs": [
    {
     "name": "stdout",
     "output_type": "stream",
     "text": [
      "1815.0 874.0 582.0 698.0 0.9130182266235352 Rock\n",
      "498.5 806.0 801.0 956.0 0.5753790140151978 Paper\n"
     ]
    }
   ],
   "source": [
    "for pred in result['predictions']:\n",
    "    x = pred['x']\n",
    "    y = pred['y']\n",
    "    width = pred['width']\n",
    "    height = pred['height']\n",
    "    conf = pred['confidence']\n",
    "    obj_class = pred['class']\n",
    "    print(x,y,width,height,conf,obj_class)"
   ]
  },
  {
   "cell_type": "code",
   "execution_count": null,
   "id": "280290d1",
   "metadata": {},
   "outputs": [
    {
     "name": "stdout",
     "output_type": "stream",
     "text": [
      "1815.0 874.0 582.0 698.0 0.9130182266235352 Rock\n",
      "498.5 806.0 801.0 956.0 0.5753790140151978 Paper\n"
     ]
    }
   ],
   "source": [
    "import cv2\n",
    "img = cv2.imread('sample.png')\n",
    "\n",
    "for pred in result['predictions']:\n",
    "    x = pred['x']\n",
    "    y = pred['y']\n",
    "    width = pred['width']\n",
    "    height = pred['height']\n",
    "    conf = pred['confidence']\n",
    "    obj_class = pred['class']\n",
    "    \n",
    "    x1, y1 = int(x-width/2), int(y-height/2)\n",
    "    x2, y2 = int(x+width/2), int(y+height/2)\n",
    "    cv2.rectangle(img, (x1,y1), (x2, y2), (0,0,255), 2)\n",
    "    cv2.putText(img, f'{obj_class} {conf:.4f}', (x1,y1), cv2.FONT_HERSHEY_PLAIN, 2, (0,0,255))\n",
    "    \n",
    "    print(x,y,width,height,conf,obj_class)\n",
    "\n",
    "cv2.imshow('image', img)\n",
    "cv2.waitKey() # 별도의 창이 열림, 닫지 않게끔 설정\n",
    "cv2.destroyAllWindows() # 창 닫으면 종료."
   ]
  },
  {
   "cell_type": "code",
   "execution_count": 5,
   "id": "8f39bf86",
   "metadata": {},
   "outputs": [
    {
     "data": {
      "text/plain": [
       "<inference_sdk.http.client.InferenceHTTPClient at 0x295cc59b640>"
      ]
     },
     "execution_count": 5,
     "metadata": {},
     "output_type": "execute_result"
    }
   ],
   "source": [
    "from inference_sdk import InferenceHTTPClient\n",
    "CLIENT = InferenceHTTPClient(\n",
    "  api_url= 'https://detect.roboflow.com',\n",
    "  api_key= os.getenv('ROBOFLOW_API_KEY')\n",
    ")\n",
    "CLIENT"
   ]
  },
  {
   "cell_type": "code",
   "execution_count": 6,
   "id": "244175ad",
   "metadata": {},
   "outputs": [
    {
     "data": {
      "text/plain": [
       "{'inference_id': 'e6434f52-8ac0-4faf-9967-ef788b6c8618',\n",
       " 'time': 0.033283226000094146,\n",
       " 'image': {'width': 416, 'height': 416},\n",
       " 'predictions': [{'x': 240.0,\n",
       "   'y': 361.5,\n",
       "   'width': 72.0,\n",
       "   'height': 61.0,\n",
       "   'confidence': 0.865915060043335,\n",
       "   'class': '3',\n",
       "   'class_id': 4,\n",
       "   'detection_id': '366a7d1e-fca7-4356-9310-4676b08327ee'},\n",
       "  {'x': 239.5,\n",
       "   'y': 362.0,\n",
       "   'width': 71.0,\n",
       "   'height': 62.0,\n",
       "   'confidence': 0.7669278979301453,\n",
       "   'class': '2',\n",
       "   'class_id': 3,\n",
       "   'detection_id': '92d77d15-998a-4001-b6f7-66e3eb5b3991'},\n",
       "  {'x': 139.0,\n",
       "   'y': 209.5,\n",
       "   'width': 22.0,\n",
       "   'height': 37.0,\n",
       "   'confidence': 0.5776458978652954,\n",
       "   'class': '8',\n",
       "   'class_id': 9,\n",
       "   'detection_id': 'ecc58fce-8220-4348-8856-c84cc8398819'}]}"
      ]
     },
     "execution_count": 6,
     "metadata": {},
     "output_type": "execute_result"
    }
   ],
   "source": [
    "result = CLIENT.infer('./mnist/000001.jpg', model_id='digital-numbers-v3ajx/1')\n",
    "result"
   ]
  },
  {
   "cell_type": "code",
   "execution_count": 10,
   "id": "1e9c14b6",
   "metadata": {},
   "outputs": [
    {
     "name": "stdout",
     "output_type": "stream",
     "text": [
      "240.0 361.5 72.0 61.0 0.865915060043335 3\n",
      "239.5 362.0 71.0 62.0 0.7669278979301453 2\n",
      "139.0 209.5 22.0 37.0 0.5776458978652954 8\n"
     ]
    }
   ],
   "source": [
    "import cv2\n",
    "img = cv2.imread('./mnist/000001.jpg')\n",
    "\n",
    "for pred in result['predictions']:\n",
    "    x = pred['x']\n",
    "    y = pred['y']\n",
    "    width = pred['width']\n",
    "    height = pred['height']\n",
    "    conf = pred['confidence']\n",
    "    obj_class = pred['class']\n",
    "    \n",
    "    x1, y1 = int(x-width/2), int(y-height/2)\n",
    "    x2, y2 = int(x+width/2), int(y+height/2)\n",
    "    cv2.rectangle(img, (x1,y1), (x2, y2), (0,0,255), 2)\n",
    "    cv2.putText(img, f'{obj_class} {conf:.4f}', (x1,y1), cv2.FONT_HERSHEY_PLAIN, 2, (0,0,255))\n",
    "    \n",
    "    print(x,y,width,height,conf,obj_class)\n",
    "\n",
    "cv2.imshow('./mnist/000001.jpg', img)\n",
    "cv2.waitKey() # 별도의 창이 열림, 닫지 않게끔 설정\n",
    "cv2.destroyAllWindows() # 창 닫으면 종료."
   ]
  },
  {
   "cell_type": "markdown",
   "id": "bb5ce689",
   "metadata": {},
   "source": [
    "# model 가져오기"
   ]
  },
  {
   "cell_type": "code",
   "execution_count": 9,
   "id": "3a51f45e",
   "metadata": {},
   "outputs": [
    {
     "name": "stdout",
     "output_type": "stream",
     "text": [
      "loading Roboflow workspace...\n",
      "loading Roboflow project...\n"
     ]
    },
    {
     "data": {
      "text/plain": [
       "<roboflow.models.object_detection.ObjectDetectionModel at 0x2959717e5f0>"
      ]
     },
     "execution_count": 9,
     "metadata": {},
     "output_type": "execute_result"
    }
   ],
   "source": [
    "from roboflow import Roboflow\n",
    "import cv2\n",
    "rf = Roboflow(api_key=os.getenv('ROBOFLOW_API_KEY'))\n",
    "project = rf.workspace().project('numbers-yt0h2')\n",
    "numbers_model = project.version(2).model\n",
    "numbers_model"
   ]
  },
  {
   "cell_type": "code",
   "execution_count": 15,
   "id": "49d5743e",
   "metadata": {},
   "outputs": [
    {
     "name": "stdout",
     "output_type": "stream",
     "text": [
      "{'predictions': [{'x': 156, 'y': 236, 'width': 49, 'height': 41, 'confidence': 0.5040796995162964, 'class': '2', 'class_id': 2, 'detection_id': '14706942-2dd0-4e5d-b8d0-5a6f915ef00f', 'image_path': './mnist/000001.jpg', 'prediction_type': 'ObjectDetectionModel'}], 'image': {'width': '416', 'height': '416'}}\n",
      "156 236 49 41 0.5040796995162964 2\n"
     ]
    }
   ],
   "source": [
    "filename = './mnist/000001.jpg'\n",
    "result = numbers_model.predict(filename, confidence=40, overlap=30)\n",
    "result_json = result.json()\n",
    "print(result_json)\n",
    "for pred in result_json['predictions']:\n",
    "    x = pred['x']\n",
    "    y = pred['y']\n",
    "    width = pred['width']\n",
    "    height = pred['height']\n",
    "    conf = pred['confidence']\n",
    "    obj_class = pred['class']\n",
    "    print(x,y,width,height,conf,obj_class)"
   ]
  },
  {
   "cell_type": "code",
   "execution_count": 16,
   "id": "094af15a",
   "metadata": {},
   "outputs": [],
   "source": [
    "import cv2\n",
    "filename = './mnist/000001.jpg'\n",
    "result = numbers_model.predict(filename, confidence=40, overlap=30)\n",
    "\n",
    "img = cv2.imread(filename)\n",
    "for pred in result:\n",
    "    x, y = pred['x'], pred['y']\n",
    "    width, height = pred['width'], pred['height']\n",
    "    conf = pred['confidence']\n",
    "    cls = pred['class']\n",
    "    x1, y1 = int(x-width/2), int(y-height/2)\n",
    "    x2, y2 = int(x+width/2), int(y+height/2)\n",
    "    cv2.rectangle(img, (x1,y1), (x2,y2), (0,0,255), 2)\n",
    "    cv2.putText(img, f'{cls} {conf:.4f}', (x1,y1), cv2.FONT_HERSHEY_PLAIN, 2, (0,0,255))\n",
    "    \n",
    "\n",
    "cv2.imshow('./mnist/000001.jpg', img)\n",
    "cv2.waitKey() # 별도의 창이 열림, 닫지 않게끔 설정\n",
    "cv2.destroyAllWindows() # 창 닫으면 종료."
   ]
  },
  {
   "cell_type": "code",
   "execution_count": null,
   "id": "e20cb6d1",
   "metadata": {},
   "outputs": [],
   "source": []
  },
  {
   "cell_type": "code",
   "execution_count": null,
   "id": "c5da2c2f",
   "metadata": {},
   "outputs": [],
   "source": []
  }
 ],
 "metadata": {
  "kernelspec": {
   "display_name": "torch_cuda_yolo_env",
   "language": "python",
   "name": "python3"
  },
  "language_info": {
   "codemirror_mode": {
    "name": "ipython",
    "version": 3
   },
   "file_extension": ".py",
   "mimetype": "text/x-python",
   "name": "python",
   "nbconvert_exporter": "python",
   "pygments_lexer": "ipython3",
   "version": "3.10.18"
  }
 },
 "nbformat": 4,
 "nbformat_minor": 5
}
