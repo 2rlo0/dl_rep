{
 "cells": [
  {
   "cell_type": "markdown",
   "id": "8262a583",
   "metadata": {},
   "source": [
    "# 객체감지"
   ]
  },
  {
   "cell_type": "code",
   "execution_count": 54,
   "id": "3e210f3f",
   "metadata": {},
   "outputs": [
    {
     "name": "stdout",
     "output_type": "stream",
     "text": [
      "\n",
      "image 1/1 c:\\githome\\dl_llm\\sample.png: 384x640 3 persons, 24.9ms\n",
      "Speed: 6.3ms preprocess, 24.9ms inference, 15.2ms postprocess per image at shape (1, 3, 384, 640)\n"
     ]
    },
    {
     "data": {
      "text/plain": [
       "[ultralytics.engine.results.Results object with attributes:\n",
       " \n",
       " boxes: ultralytics.engine.results.Boxes object\n",
       " keypoints: None\n",
       " masks: None\n",
       " names: {0: 'person', 1: 'bicycle', 2: 'car', 3: 'motorcycle', 4: 'airplane', 5: 'bus', 6: 'train', 7: 'truck', 8: 'boat', 9: 'traffic light', 10: 'fire hydrant', 11: 'stop sign', 12: 'parking meter', 13: 'bench', 14: 'bird', 15: 'cat', 16: 'dog', 17: 'horse', 18: 'sheep', 19: 'cow', 20: 'elephant', 21: 'bear', 22: 'zebra', 23: 'giraffe', 24: 'backpack', 25: 'umbrella', 26: 'handbag', 27: 'tie', 28: 'suitcase', 29: 'frisbee', 30: 'skis', 31: 'snowboard', 32: 'sports ball', 33: 'kite', 34: 'baseball bat', 35: 'baseball glove', 36: 'skateboard', 37: 'surfboard', 38: 'tennis racket', 39: 'bottle', 40: 'wine glass', 41: 'cup', 42: 'fork', 43: 'knife', 44: 'spoon', 45: 'bowl', 46: 'banana', 47: 'apple', 48: 'sandwich', 49: 'orange', 50: 'broccoli', 51: 'carrot', 52: 'hot dog', 53: 'pizza', 54: 'donut', 55: 'cake', 56: 'chair', 57: 'couch', 58: 'potted plant', 59: 'bed', 60: 'dining table', 61: 'toilet', 62: 'tv', 63: 'laptop', 64: 'mouse', 65: 'remote', 66: 'keyboard', 67: 'cell phone', 68: 'microwave', 69: 'oven', 70: 'toaster', 71: 'sink', 72: 'refrigerator', 73: 'book', 74: 'clock', 75: 'vase', 76: 'scissors', 77: 'teddy bear', 78: 'hair drier', 79: 'toothbrush'}\n",
       " obb: None\n",
       " orig_img: array([[[255, 255, 255],\n",
       "         [255, 255, 255],\n",
       "         [255, 255, 255],\n",
       "         ...,\n",
       "         [255, 255, 255],\n",
       "         [255, 255, 255],\n",
       "         [255, 255, 255]],\n",
       " \n",
       "        [[255, 255, 255],\n",
       "         [255, 255, 255],\n",
       "         [255, 255, 255],\n",
       "         ...,\n",
       "         [255, 255, 255],\n",
       "         [255, 255, 255],\n",
       "         [255, 255, 255]],\n",
       " \n",
       "        [[255, 255, 255],\n",
       "         [255, 255, 255],\n",
       "         [255, 255, 255],\n",
       "         ...,\n",
       "         [255, 255, 255],\n",
       "         [255, 255, 255],\n",
       "         [255, 255, 255]],\n",
       " \n",
       "        ...,\n",
       " \n",
       "        [[151, 162, 194],\n",
       "         [153, 160, 193],\n",
       "         [154, 159, 192],\n",
       "         ...,\n",
       "         [141, 160, 187],\n",
       "         [139, 158, 185],\n",
       "         [138, 157, 184]],\n",
       " \n",
       "        [[153, 164, 196],\n",
       "         [155, 162, 195],\n",
       "         [156, 161, 194],\n",
       "         ...,\n",
       "         [142, 161, 188],\n",
       "         [139, 158, 185],\n",
       "         [138, 157, 184]],\n",
       " \n",
       "        [[153, 164, 196],\n",
       "         [155, 162, 195],\n",
       "         [156, 161, 194],\n",
       "         ...,\n",
       "         [142, 161, 188],\n",
       "         [139, 158, 185],\n",
       "         [138, 157, 184]]], dtype=uint8)\n",
       " orig_shape: (1293, 2300)\n",
       " path: 'c:\\\\githome\\\\dl_llm\\\\sample.png'\n",
       " probs: None\n",
       " save_dir: 'runs\\\\detect\\\\predict'\n",
       " speed: {'preprocess': 6.332699995255098, 'inference': 24.913800007198006, 'postprocess': 15.15530000324361}]"
      ]
     },
     "execution_count": 54,
     "metadata": {},
     "output_type": "execute_result"
    }
   ],
   "source": [
    "from ultralytics import YOLO\n",
    "\n",
    "model = YOLO(\"yolov8n.pt\")\n",
    "result = model('sample.png')\n",
    "result # 가중치파일 생성됨"
   ]
  },
  {
   "cell_type": "code",
   "execution_count": null,
   "id": "3e1ae6f2",
   "metadata": {},
   "outputs": [
    {
     "name": "stdout",
     "output_type": "stream",
     "text": [
      "\n",
      "image 1/1 c:\\githome\\dl_llm\\dog.png: 448x640 1 dog, 19.8ms\n",
      "Speed: 3.8ms preprocess, 19.8ms inference, 4.5ms postprocess per image at shape (1, 3, 448, 640)\n"
     ]
    },
    {
     "data": {
      "text/plain": [
       "ultralytics.engine.results.Boxes object with attributes:\n",
       "\n",
       "cls: tensor([16.], device='cuda:0')\n",
       "conf: tensor([0.8305], device='cuda:0')\n",
       "data: tensor([[ 74.4500,   3.8350, 224.1245, 174.2859,   0.8305,  16.0000]], device='cuda:0')\n",
       "id: None\n",
       "is_track: False\n",
       "orig_shape: (183, 275)\n",
       "shape: torch.Size([1, 6])\n",
       "xywh: tensor([[149.2872,  89.0604, 149.6745, 170.4509]], device='cuda:0')\n",
       "xywhn: tensor([[0.5429, 0.4867, 0.5443, 0.9314]], device='cuda:0')\n",
       "xyxy: tensor([[ 74.4500,   3.8350, 224.1245, 174.2859]], device='cuda:0')\n",
       "xyxyn: tensor([[0.2707, 0.0210, 0.8150, 0.9524]], device='cuda:0')"
      ]
     },
     "execution_count": 7,
     "metadata": {},
     "output_type": "execute_result"
    }
   ],
   "source": [
    "# 바운딩박스, 라벨 출력\n",
    "result = model('dog.png')\n",
    "result\n",
    "result[0].boxes # 한마리의 강아지. 16번 클래스 "
   ]
  },
  {
   "cell_type": "code",
   "execution_count": 8,
   "id": "4495d2bf",
   "metadata": {},
   "outputs": [
    {
     "data": {
      "text/plain": [
       "tensor(0.8305, device='cuda:0')"
      ]
     },
     "execution_count": 8,
     "metadata": {},
     "output_type": "execute_result"
    }
   ],
   "source": [
    "result[0].boxes[0].conf[0]"
   ]
  },
  {
   "cell_type": "code",
   "execution_count": 29,
   "id": "0c0fef63",
   "metadata": {},
   "outputs": [
    {
     "data": {
      "text/plain": [
       "array([[[ 18,  35,  32],\n",
       "        [ 18,  35,  32],\n",
       "        [ 18,  35,  31],\n",
       "        ...,\n",
       "        [ 22,  50,  51],\n",
       "        [ 24,  52,  52],\n",
       "        [ 26,  54,  54]],\n",
       "\n",
       "       [[ 18,  35,  32],\n",
       "        [ 18,  35,  32],\n",
       "        [ 18,  35,  31],\n",
       "        ...,\n",
       "        [ 21,  49,  50],\n",
       "        [ 23,  51,  51],\n",
       "        [ 25,  53,  53]],\n",
       "\n",
       "       [[ 18,  35,  32],\n",
       "        [ 18,  35,  32],\n",
       "        [ 18,  35,  31],\n",
       "        ...,\n",
       "        [ 21,  49,  49],\n",
       "        [ 22,  50,  50],\n",
       "        [ 23,  51,  51]],\n",
       "\n",
       "       ...,\n",
       "\n",
       "       [[ 46, 123, 115],\n",
       "        [ 37, 114, 106],\n",
       "        [ 27, 106,  97],\n",
       "        ...,\n",
       "        [ 57, 120, 124],\n",
       "        [ 63, 123, 129],\n",
       "        [ 66, 126, 132]],\n",
       "\n",
       "       [[ 62, 139, 132],\n",
       "        [ 42, 119, 112],\n",
       "        [ 39, 117, 110],\n",
       "        ...,\n",
       "        [ 58, 121, 125],\n",
       "        [ 61, 121, 127],\n",
       "        [ 62, 122, 128]],\n",
       "\n",
       "       [[ 65, 142, 135],\n",
       "        [ 45, 122, 115],\n",
       "        [ 42, 120, 113],\n",
       "        ...,\n",
       "        [ 58, 121, 125],\n",
       "        [ 61, 121, 127],\n",
       "        [ 62, 122, 128]]], dtype=uint8)"
      ]
     },
     "execution_count": 29,
     "metadata": {},
     "output_type": "execute_result"
    }
   ],
   "source": [
    "import cv2\n",
    "img = cv2.imread('dog.png')\n",
    "img"
   ]
  },
  {
   "cell_type": "code",
   "execution_count": 30,
   "id": "5573a412",
   "metadata": {},
   "outputs": [
    {
     "data": {
      "text/plain": [
       "True"
      ]
     },
     "execution_count": 30,
     "metadata": {},
     "output_type": "execute_result"
    }
   ],
   "source": [
    "for box in result[0].boxes:\n",
    "    class_id = box.cls[0]\n",
    "    class_name = model.names[class_id.item()]\n",
    "    \n",
    "    # 신뢰도점수\n",
    "    conf = float(box.conf[0])\n",
    "    \n",
    "    # 바운딩 박스\n",
    "    coords = box.xyxy[0].tolist()\n",
    "    x1, y1, x2, y2 = map(int, coords)\n",
    "    cv2.rectangle(img, (x1,y1), (x2,y2), (0,255,0), 2)\n",
    "    cv2.putText(img, f'{class_name} {conf:.4f}', (x1,y1-10), cv2.FONT_HERSHEY_PLAIN, 1, (0,255,0))\n",
    "\n",
    "# end-for\n",
    "cv2.imshow('yolo8 object detection', img)\n",
    "cv2.waitKey(0)\n",
    "cv2.destroyAllWindows()\n",
    "cv2.imwrite('detect_result.jpg', img)"
   ]
  },
  {
   "cell_type": "markdown",
   "id": "ec3d3b3f",
   "metadata": {},
   "source": [
    "# segmentation"
   ]
  },
  {
   "cell_type": "code",
   "execution_count": 36,
   "id": "2ded8f45",
   "metadata": {},
   "outputs": [
    {
     "name": "stdout",
     "output_type": "stream",
     "text": [
      "\n",
      "image 1/1 c:\\githome\\dl_llm\\dog2.jpg: 448x640 1 dog, 26.8ms\n",
      "Speed: 3.4ms preprocess, 26.8ms inference, 5.0ms postprocess per image at shape (1, 3, 448, 640)\n"
     ]
    },
    {
     "data": {
      "text/plain": [
       "ultralytics.engine.results.Results object with attributes:\n",
       "\n",
       "boxes: ultralytics.engine.results.Boxes object\n",
       "keypoints: None\n",
       "masks: ultralytics.engine.results.Masks object\n",
       "names: {0: 'person', 1: 'bicycle', 2: 'car', 3: 'motorcycle', 4: 'airplane', 5: 'bus', 6: 'train', 7: 'truck', 8: 'boat', 9: 'traffic light', 10: 'fire hydrant', 11: 'stop sign', 12: 'parking meter', 13: 'bench', 14: 'bird', 15: 'cat', 16: 'dog', 17: 'horse', 18: 'sheep', 19: 'cow', 20: 'elephant', 21: 'bear', 22: 'zebra', 23: 'giraffe', 24: 'backpack', 25: 'umbrella', 26: 'handbag', 27: 'tie', 28: 'suitcase', 29: 'frisbee', 30: 'skis', 31: 'snowboard', 32: 'sports ball', 33: 'kite', 34: 'baseball bat', 35: 'baseball glove', 36: 'skateboard', 37: 'surfboard', 38: 'tennis racket', 39: 'bottle', 40: 'wine glass', 41: 'cup', 42: 'fork', 43: 'knife', 44: 'spoon', 45: 'bowl', 46: 'banana', 47: 'apple', 48: 'sandwich', 49: 'orange', 50: 'broccoli', 51: 'carrot', 52: 'hot dog', 53: 'pizza', 54: 'donut', 55: 'cake', 56: 'chair', 57: 'couch', 58: 'potted plant', 59: 'bed', 60: 'dining table', 61: 'toilet', 62: 'tv', 63: 'laptop', 64: 'mouse', 65: 'remote', 66: 'keyboard', 67: 'cell phone', 68: 'microwave', 69: 'oven', 70: 'toaster', 71: 'sink', 72: 'refrigerator', 73: 'book', 74: 'clock', 75: 'vase', 76: 'scissors', 77: 'teddy bear', 78: 'hair drier', 79: 'toothbrush'}\n",
       "obb: None\n",
       "orig_img: array([[[ 57,  51,  52],\n",
       "        [ 58,  52,  53],\n",
       "        [ 59,  53,  54],\n",
       "        ...,\n",
       "        [ 32,  58,  42],\n",
       "        [ 32,  58,  42],\n",
       "        [ 32,  58,  42]],\n",
       "\n",
       "       [[ 58,  52,  53],\n",
       "        [ 59,  53,  54],\n",
       "        [ 60,  54,  55],\n",
       "        ...,\n",
       "        [ 32,  58,  41],\n",
       "        [ 32,  58,  41],\n",
       "        [ 31,  57,  41]],\n",
       "\n",
       "       [[ 59,  53,  54],\n",
       "        [ 59,  54,  55],\n",
       "        [ 60,  55,  55],\n",
       "        ...,\n",
       "        [ 32,  58,  40],\n",
       "        [ 31,  58,  40],\n",
       "        [ 31,  57,  41]],\n",
       "\n",
       "       ...,\n",
       "\n",
       "       [[ 64, 116, 103],\n",
       "        [ 64, 119, 105],\n",
       "        [ 65, 121, 107],\n",
       "        ...,\n",
       "        [ 33, 124, 112],\n",
       "        [ 32, 124, 111],\n",
       "        [ 33, 127, 114]],\n",
       "\n",
       "       [[ 63, 116, 103],\n",
       "        [ 63, 119, 106],\n",
       "        [ 65, 122, 108],\n",
       "        ...,\n",
       "        [ 31, 123, 109],\n",
       "        [ 31, 124, 110],\n",
       "        [ 34, 128, 114]],\n",
       "\n",
       "       [[ 62, 115, 102],\n",
       "        [ 62, 119, 106],\n",
       "        [ 63, 122, 108],\n",
       "        ...,\n",
       "        [ 33, 125, 110],\n",
       "        [ 33, 126, 111],\n",
       "        [ 36, 129, 114]]], dtype=uint8)\n",
       "orig_shape: (683, 1024)\n",
       "path: 'c:\\\\githome\\\\dl_llm\\\\dog2.jpg'\n",
       "probs: None\n",
       "save_dir: 'runs\\\\segment\\\\predict'\n",
       "speed: {'preprocess': 3.4327000030316412, 'inference': 26.8348999961745, 'postprocess': 4.969999979948625}"
      ]
     },
     "execution_count": 36,
     "metadata": {},
     "output_type": "execute_result"
    }
   ],
   "source": [
    "from ultralytics import YOLO\n",
    "\n",
    "model = YOLO(\"yolov8n-seg.pt\")\n",
    "result = model('dog2.jpg')\n",
    "result[0]"
   ]
  },
  {
   "cell_type": "code",
   "execution_count": 37,
   "id": "81ecf0d2",
   "metadata": {},
   "outputs": [
    {
     "data": {
      "text/plain": [
       "True"
      ]
     },
     "execution_count": 37,
     "metadata": {},
     "output_type": "execute_result"
    }
   ],
   "source": [
    "import numpy as np\n",
    "img_new = cv2.imread('dog2.jpg')\n",
    "overlay = img_new.copy() # 마스크용\n",
    "\n",
    "for box, mask in zip(result[0].boxes, result[0].masks):\n",
    "    # 마스크\n",
    "    polygon = mask.xy[0].astype(np.int32)\n",
    "    cv2.fillPoly(overlay, [polygon], (0,255,0)) # 다각형을 그려줌\n",
    "    \n",
    "    class_id = box.cls[0]\n",
    "    class_name = model.names[class_id.item()]\n",
    "    \n",
    "    # 신뢰도점수\n",
    "    conf = float(box.conf[0])\n",
    "    \n",
    "    # 바운딩 박스\n",
    "    coords = box.xyxy[0].tolist()\n",
    "    x1, y1, x2, y2 = map(int, coords)\n",
    "    cv2.rectangle(img_new, (x1,y1), (x2,y2), (0,255,0), 2)\n",
    "    cv2.putText(img_new, f'{class_name} {conf:.4f}', (x1,y1-10), cv2.FONT_HERSHEY_PLAIN, 1, (0,255,0), 1)\n",
    "    \n",
    "# img + overlay 겹쳐서 출력\n",
    "alpha = 0.5\n",
    "final_img = cv2.addWeighted(overlay, alpha, img_new, 1-alpha, 0)\n",
    "\n",
    "# 최종출력\n",
    "cv2.imshow('yolo8 object detection', final_img)\n",
    "cv2.waitKey(0)\n",
    "cv2.destroyAllWindows()\n",
    "cv2.imwrite('detect_result2.jpg', final_img)"
   ]
  },
  {
   "cell_type": "code",
   "execution_count": null,
   "id": "944df728",
   "metadata": {},
   "outputs": [
    {
     "name": "stdout",
     "output_type": "stream",
     "text": [
      "\n",
      "image 1/1 c:\\githome\\dl_llm\\airplane.jpg: 384x640 1 airplane, 24.9ms\n",
      "Speed: 4.9ms preprocess, 24.9ms inference, 5.2ms postprocess per image at shape (1, 3, 384, 640)\n"
     ]
    },
    {
     "data": {
      "text/plain": [
       "ultralytics.engine.results.Results object with attributes:\n",
       "\n",
       "boxes: ultralytics.engine.results.Boxes object\n",
       "keypoints: None\n",
       "masks: ultralytics.engine.results.Masks object\n",
       "names: {0: 'person', 1: 'bicycle', 2: 'car', 3: 'motorcycle', 4: 'airplane', 5: 'bus', 6: 'train', 7: 'truck', 8: 'boat', 9: 'traffic light', 10: 'fire hydrant', 11: 'stop sign', 12: 'parking meter', 13: 'bench', 14: 'bird', 15: 'cat', 16: 'dog', 17: 'horse', 18: 'sheep', 19: 'cow', 20: 'elephant', 21: 'bear', 22: 'zebra', 23: 'giraffe', 24: 'backpack', 25: 'umbrella', 26: 'handbag', 27: 'tie', 28: 'suitcase', 29: 'frisbee', 30: 'skis', 31: 'snowboard', 32: 'sports ball', 33: 'kite', 34: 'baseball bat', 35: 'baseball glove', 36: 'skateboard', 37: 'surfboard', 38: 'tennis racket', 39: 'bottle', 40: 'wine glass', 41: 'cup', 42: 'fork', 43: 'knife', 44: 'spoon', 45: 'bowl', 46: 'banana', 47: 'apple', 48: 'sandwich', 49: 'orange', 50: 'broccoli', 51: 'carrot', 52: 'hot dog', 53: 'pizza', 54: 'donut', 55: 'cake', 56: 'chair', 57: 'couch', 58: 'potted plant', 59: 'bed', 60: 'dining table', 61: 'toilet', 62: 'tv', 63: 'laptop', 64: 'mouse', 65: 'remote', 66: 'keyboard', 67: 'cell phone', 68: 'microwave', 69: 'oven', 70: 'toaster', 71: 'sink', 72: 'refrigerator', 73: 'book', 74: 'clock', 75: 'vase', 76: 'scissors', 77: 'teddy bear', 78: 'hair drier', 79: 'toothbrush'}\n",
       "obb: None\n",
       "orig_img: array([[[150,  91,  45],\n",
       "        [145,  86,  40],\n",
       "        [143,  84,  38],\n",
       "        ...,\n",
       "        [142,  83,  37],\n",
       "        [144,  85,  39],\n",
       "        [149,  90,  44]],\n",
       "\n",
       "       [[146,  87,  41],\n",
       "        [140,  81,  35],\n",
       "        [138,  79,  33],\n",
       "        ...,\n",
       "        [139,  80,  34],\n",
       "        [141,  82,  36],\n",
       "        [146,  87,  41]],\n",
       "\n",
       "       [[143,  84,  38],\n",
       "        [138,  79,  33],\n",
       "        [136,  77,  31],\n",
       "        ...,\n",
       "        [137,  78,  32],\n",
       "        [139,  80,  34],\n",
       "        [145,  86,  40]],\n",
       "\n",
       "       ...,\n",
       "\n",
       "       [[181, 136,  99],\n",
       "        [180, 135,  98],\n",
       "        [178, 133,  96],\n",
       "        ...,\n",
       "        [108,  68,  49],\n",
       "        [110,  70,  51],\n",
       "        [112,  72,  53]],\n",
       "\n",
       "       [[186, 141, 107],\n",
       "        [188, 143, 109],\n",
       "        [189, 144, 110],\n",
       "        ...,\n",
       "        [112,  70,  51],\n",
       "        [113,  71,  52],\n",
       "        [115,  73,  54]],\n",
       "\n",
       "       [[188, 145, 112],\n",
       "        [192, 149, 116],\n",
       "        [198, 155, 122],\n",
       "        ...,\n",
       "        [113,  71,  52],\n",
       "        [115,  73,  54],\n",
       "        [117,  75,  56]]], dtype=uint8)\n",
       "orig_shape: (360, 640)\n",
       "path: 'c:\\\\githome\\\\dl_llm\\\\airplane.jpg'\n",
       "probs: None\n",
       "save_dir: 'runs\\\\segment\\\\predict'\n",
       "speed: {'preprocess': 4.948299989337102, 'inference': 24.891600012779236, 'postprocess': 5.193399993004277}"
      ]
     },
     "execution_count": 38,
     "metadata": {},
     "output_type": "execute_result"
    }
   ],
   "source": [
    "# 비행기\n",
    "from ultralytics import YOLO\n",
    "\n",
    "model = YOLO(\"yolov8n-seg.pt\")\n",
    "result = model('airplane.jpg')\n",
    "result[0]"
   ]
  },
  {
   "cell_type": "code",
   "execution_count": 39,
   "id": "db0ca2c0",
   "metadata": {},
   "outputs": [
    {
     "data": {
      "text/plain": [
       "True"
      ]
     },
     "execution_count": 39,
     "metadata": {},
     "output_type": "execute_result"
    }
   ],
   "source": [
    "import numpy as np\n",
    "img_air = cv2.imread('airplane.jpg')\n",
    "overlay = img_air.copy() # 마스크용\n",
    "\n",
    "for box, mask in zip(result[0].boxes, result[0].masks):\n",
    "    # 마스크\n",
    "    polygon = mask.xy[0].astype(np.int32)\n",
    "    cv2.fillPoly(overlay, [polygon], (0,255,0)) # 다각형을 그려줌\n",
    "    \n",
    "    class_id = box.cls[0]\n",
    "    class_name = model.names[class_id.item()]\n",
    "    \n",
    "    # 신뢰도점수\n",
    "    conf = float(box.conf[0])\n",
    "    \n",
    "    # 바운딩 박스\n",
    "    coords = box.xyxy[0].tolist()\n",
    "    x1, y1, x2, y2 = map(int, coords)\n",
    "    cv2.rectangle(img_air, (x1,y1), (x2,y2), (0,255,0), 2)\n",
    "    cv2.putText(img_air, f'{class_name} {conf:.4f}', (x1,y1-10), cv2.FONT_HERSHEY_PLAIN, 1, (0,255,0), 1)\n",
    "    \n",
    "# img + overlay 겹쳐서 출력\n",
    "alpha = 0.5\n",
    "final_air = cv2.addWeighted(overlay, alpha, img_air, 1-alpha, 0)\n",
    "\n",
    "# 최종출력\n",
    "cv2.imshow('yolo8 object detection', final_air)\n",
    "cv2.waitKey(0)\n",
    "cv2.destroyAllWindows()\n",
    "cv2.imwrite('air2.jpg', final_air)"
   ]
  },
  {
   "cell_type": "code",
   "execution_count": null,
   "id": "94652f4b",
   "metadata": {},
   "outputs": [
    {
     "name": "stdout",
     "output_type": "stream",
     "text": [
      "\n",
      "image 1/1 c:\\githome\\dl_llm\\bus.jpg: 352x640 1 bicycle, 3 cars, 4 buss, 48.2ms\n",
      "Speed: 3.0ms preprocess, 48.2ms inference, 14.0ms postprocess per image at shape (1, 3, 352, 640)\n"
     ]
    },
    {
     "data": {
      "text/plain": [
       "ultralytics.engine.results.Results object with attributes:\n",
       "\n",
       "boxes: ultralytics.engine.results.Boxes object\n",
       "keypoints: None\n",
       "masks: ultralytics.engine.results.Masks object\n",
       "names: {0: 'person', 1: 'bicycle', 2: 'car', 3: 'motorcycle', 4: 'airplane', 5: 'bus', 6: 'train', 7: 'truck', 8: 'boat', 9: 'traffic light', 10: 'fire hydrant', 11: 'stop sign', 12: 'parking meter', 13: 'bench', 14: 'bird', 15: 'cat', 16: 'dog', 17: 'horse', 18: 'sheep', 19: 'cow', 20: 'elephant', 21: 'bear', 22: 'zebra', 23: 'giraffe', 24: 'backpack', 25: 'umbrella', 26: 'handbag', 27: 'tie', 28: 'suitcase', 29: 'frisbee', 30: 'skis', 31: 'snowboard', 32: 'sports ball', 33: 'kite', 34: 'baseball bat', 35: 'baseball glove', 36: 'skateboard', 37: 'surfboard', 38: 'tennis racket', 39: 'bottle', 40: 'wine glass', 41: 'cup', 42: 'fork', 43: 'knife', 44: 'spoon', 45: 'bowl', 46: 'banana', 47: 'apple', 48: 'sandwich', 49: 'orange', 50: 'broccoli', 51: 'carrot', 52: 'hot dog', 53: 'pizza', 54: 'donut', 55: 'cake', 56: 'chair', 57: 'couch', 58: 'potted plant', 59: 'bed', 60: 'dining table', 61: 'toilet', 62: 'tv', 63: 'laptop', 64: 'mouse', 65: 'remote', 66: 'keyboard', 67: 'cell phone', 68: 'microwave', 69: 'oven', 70: 'toaster', 71: 'sink', 72: 'refrigerator', 73: 'book', 74: 'clock', 75: 'vase', 76: 'scissors', 77: 'teddy bear', 78: 'hair drier', 79: 'toothbrush'}\n",
       "obb: None\n",
       "orig_img: array([[[ 12,  14,   8],\n",
       "        [  6,   8,   2],\n",
       "        [ 21,  22,  18],\n",
       "        ...,\n",
       "        [130, 134, 135],\n",
       "        [126, 128, 129],\n",
       "        [127, 129, 130]],\n",
       "\n",
       "       [[ 23,  24,  20],\n",
       "        [ 76,  77,  75],\n",
       "        [ 71,  72,  70],\n",
       "        ...,\n",
       "        [118, 120, 121],\n",
       "        [131, 133, 134],\n",
       "        [115, 114, 116]],\n",
       "\n",
       "       [[125, 125, 125],\n",
       "        [ 92,  92,  92],\n",
       "        [ 45,  45,  45],\n",
       "        ...,\n",
       "        [126, 128, 129],\n",
       "        [124, 123, 125],\n",
       "        [119, 116, 118]],\n",
       "\n",
       "       ...,\n",
       "\n",
       "       [[144, 145, 143],\n",
       "        [ 87,  85,  84],\n",
       "        [ 34,  32,  31],\n",
       "        ...,\n",
       "        [161, 167, 172],\n",
       "        [167, 171, 176],\n",
       "        [160, 164, 169]],\n",
       "\n",
       "       [[146, 147, 145],\n",
       "        [ 88,  86,  85],\n",
       "        [ 34,  32,  31],\n",
       "        ...,\n",
       "        [141, 149, 156],\n",
       "        [147, 153, 160],\n",
       "        [153, 159, 166]],\n",
       "\n",
       "       [[152, 153, 151],\n",
       "        [ 91,  89,  88],\n",
       "        [ 33,  31,  30],\n",
       "        ...,\n",
       "        [163, 171, 178],\n",
       "        [155, 163, 170],\n",
       "        [149, 157, 164]]], dtype=uint8)\n",
       "orig_shape: (325, 600)\n",
       "path: 'c:\\\\githome\\\\dl_llm\\\\bus.jpg'\n",
       "probs: None\n",
       "save_dir: 'runs\\\\segment\\\\predict'\n",
       "speed: {'preprocess': 2.960499987239018, 'inference': 48.229799984255806, 'postprocess': 13.998500013258308}"
      ]
     },
     "execution_count": 42,
     "metadata": {},
     "output_type": "execute_result"
    }
   ],
   "source": [
    "# 버스\n",
    "from ultralytics import YOLO\n",
    "\n",
    "model = YOLO(\"yolov8n-seg.pt\")\n",
    "result = model('bus.jpg')\n",
    "result[0]"
   ]
  },
  {
   "cell_type": "code",
   "execution_count": null,
   "id": "44b1860c",
   "metadata": {},
   "outputs": [
    {
     "data": {
      "text/plain": [
       "True"
      ]
     },
     "execution_count": 43,
     "metadata": {},
     "output_type": "execute_result"
    }
   ],
   "source": [
    "import numpy as np\n",
    "img_bus = cv2.imread('bus.jpg')\n",
    "overlay = img_bus.copy() # 마스크용\n",
    "\n",
    "for box, mask in zip(result[0].boxes, result[0].masks):\n",
    "    # 마스크\n",
    "    polygon = mask.xy[0].astype(np.int32)\n",
    "    cv2.fillPoly(overlay, [polygon], (0,255,0)) # 다각형을 그려줌\n",
    "    \n",
    "    class_id = box.cls[0]\n",
    "    class_name = model.names[class_id.item()]\n",
    "    \n",
    "    # 신뢰도점수\n",
    "    conf = float(box.conf[0])\n",
    "    \n",
    "    # 바운딩 박스\n",
    "    coords = box.xyxy[0].tolist()\n",
    "    x1, y1, x2, y2 = map(int, coords)\n",
    "    cv2.rectangle(img_bus, (x1,y1), (x2,y2), (0,255,0), 2)\n",
    "    cv2.putText(img_bus, f'{class_name} {conf:.4f}', (x1,y1-10), cv2.FONT_HERSHEY_PLAIN, 1, (0,255,0), 1)\n",
    "    \n",
    "# img + overlay 겹쳐서 출력\n",
    "alpha = 0.5\n",
    "final_bus = cv2.addWeighted(overlay, alpha, img_bus, 1-alpha, 0)\n",
    "\n",
    "# 최종출력\n",
    "cv2.imshow('yolo8 object segmentation', final_bus)\n",
    "cv2.waitKey(0)\n",
    "cv2.destroyAllWindows()\n",
    "cv2.imwrite('bus2.jpg', final_bus)"
   ]
  },
  {
   "cell_type": "markdown",
   "id": "b6e16fe6",
   "metadata": {},
   "source": [
    "# 분류 (생략)\n",
    "# 자세"
   ]
  },
  {
   "cell_type": "code",
   "execution_count": 53,
   "id": "8416cdb9",
   "metadata": {},
   "outputs": [
    {
     "name": "stdout",
     "output_type": "stream",
     "text": [
      "\n",
      "image 1/1 c:\\githome\\dl_llm\\people.jpg: 416x640 1 person, 23.4ms\n",
      "Speed: 2.4ms preprocess, 23.4ms inference, 2.9ms postprocess per image at shape (1, 3, 416, 640)\n"
     ]
    },
    {
     "data": {
      "text/plain": [
       "True"
      ]
     },
     "execution_count": 53,
     "metadata": {},
     "output_type": "execute_result"
    }
   ],
   "source": [
    "pose_model = YOLO('yolov8n-pose.pt')\n",
    "pose_result = pose_model('people.jpg')\n",
    "img = cv2.imread('people.jpg')\n",
    "\n",
    "kp = pose_result[0].keypoints\n",
    "\n",
    "for man_kp in kp:\n",
    "    for x,y in man_kp.xy[0]:\n",
    "        # 혹시 0에서 시작하는 좌표 -> pass\n",
    "        if x>0 and y>0:\n",
    "            cv2.circle(img, (int(x), int(y)), 3, (0,255,0), -1)\n",
    "\n",
    "# 최종출력\n",
    "cv2.imshow('yolov8 object pose', img)\n",
    "cv2.waitKey(0)\n",
    "cv2.destroyAllWindows()\n",
    "cv2.imwrite('pose_result.jpg', img)"
   ]
  },
  {
   "cell_type": "code",
   "execution_count": null,
   "id": "ab3cd628",
   "metadata": {},
   "outputs": [],
   "source": []
  }
 ],
 "metadata": {
  "kernelspec": {
   "display_name": "torch_cuda_yolo_env",
   "language": "python",
   "name": "python3"
  },
  "language_info": {
   "codemirror_mode": {
    "name": "ipython",
    "version": 3
   },
   "file_extension": ".py",
   "mimetype": "text/x-python",
   "name": "python",
   "nbconvert_exporter": "python",
   "pygments_lexer": "ipython3",
   "version": "3.10.18"
  }
 },
 "nbformat": 4,
 "nbformat_minor": 5
}
